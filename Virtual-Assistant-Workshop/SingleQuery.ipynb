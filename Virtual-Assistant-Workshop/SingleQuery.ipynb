{
 "cells": [
  {
   "cell_type": "markdown",
   "metadata": {},
   "source": [
    "# What this code is going to do\n",
    "- We have a set of FAQ questions in a csv file.\n",
    "- The code converts the text of the questions into a tensor.\n",
    "- Then we take in the user's query.\n",
    "- That is also converted into a tensor.\n",
    "- Finally, we compare query tensor to the questions tensor and select the best match.\n",
    "- This _match_ is the closest question in the csv to the one given by the user.\n",
    "- We then output the answer corresponding to the matching question from the csv."
   ]
  },
  {
   "cell_type": "markdown",
   "metadata": {},
   "source": [
    "# Code"
   ]
  },
  {
   "cell_type": "markdown",
   "metadata": {},
   "source": [
    "## Libraries Used"
   ]
  },
  {
   "cell_type": "markdown",
   "metadata": {},
   "source": [
    "`numpy` is used just for finding the max argument."
   ]
  },
  {
   "cell_type": "code",
   "execution_count": 1,
   "metadata": {},
   "outputs": [],
   "source": [
    "import numpy as np"
   ]
  },
  {
   "cell_type": "markdown",
   "metadata": {},
   "source": [
    "`pandas` is used for making R-like data frames."
   ]
  },
  {
   "cell_type": "code",
   "execution_count": 6,
   "metadata": {},
   "outputs": [],
   "source": [
    "import pandas as pd"
   ]
  },
  {
   "cell_type": "markdown",
   "metadata": {},
   "source": [
    "`lingualytics` and `texthero` are used for cleaning up text."
   ]
  },
  {
   "cell_type": "code",
   "execution_count": 9,
   "metadata": {},
   "outputs": [],
   "source": [
    "\n",
    "from lingualytics.preprocessing import remove_lessthan, remove_punctuation, remove_stopwords\n",
    "from lingualytics.stopwords import hi_stopwords,en_stopwords\n",
    "from texthero.preprocessing import remove_digits"
   ]
  },
  {
   "cell_type": "markdown",
   "metadata": {},
   "source": [
    "`sentence_transformers` converts text into a tensor."
   ]
  },
  {
   "cell_type": "code",
   "execution_count": 4,
   "metadata": {},
   "outputs": [],
   "source": [
    "\n",
    "from sentence_transformers import SentenceTransformer"
   ]
  },
  {
   "cell_type": "markdown",
   "metadata": {},
   "source": [
    "`torch` is used to find the two most similar tensors."
   ]
  },
  {
   "cell_type": "code",
   "execution_count": 5,
   "metadata": {},
   "outputs": [],
   "source": [
    "\n",
    "import torch"
   ]
  },
  {
   "cell_type": "markdown",
   "metadata": {},
   "source": [
    "## Other Stuff"
   ]
  },
  {
   "cell_type": "markdown",
   "metadata": {},
   "source": [
    "`model` is a function from `SentenceTransformer` which will be used to convert the text into a cursor."
   ]
  },
  {
   "cell_type": "code",
   "execution_count": 6,
   "metadata": {},
   "outputs": [],
   "source": [
    "model = SentenceTransformer('paraphrase-MiniLM-L6-v2')\n"
   ]
  },
  {
   "cell_type": "markdown",
   "metadata": {},
   "source": [
    "`torch.nn.CosineSimilarity` is a function from `torch` which finds out the needed question (by comparing tensors)"
   ]
  },
  {
   "cell_type": "code",
   "execution_count": 7,
   "metadata": {},
   "outputs": [],
   "source": [
    "cos_fn = torch.nn.CosineSimilarity(dim = 1, eps = 1e-6) "
   ]
  },
  {
   "cell_type": "markdown",
   "metadata": {},
   "source": [
    "# The Code"
   ]
  },
  {
   "cell_type": "markdown",
   "metadata": {},
   "source": [
    "## Getting, Cleaning and Embedding all the text"
   ]
  },
  {
   "cell_type": "markdown",
   "metadata": {},
   "source": [
    "Creating a data frame from the questions and answers in the csv file."
   ]
  },
  {
   "cell_type": "code",
   "execution_count": 7,
   "metadata": {},
   "outputs": [
    {
     "data": {
      "text/html": [
       "<div>\n",
       "<style scoped>\n",
       "    .dataframe tbody tr th:only-of-type {\n",
       "        vertical-align: middle;\n",
       "    }\n",
       "\n",
       "    .dataframe tbody tr th {\n",
       "        vertical-align: top;\n",
       "    }\n",
       "\n",
       "    .dataframe thead th {\n",
       "        text-align: right;\n",
       "    }\n",
       "</style>\n",
       "<table border=\"1\" class=\"dataframe\">\n",
       "  <thead>\n",
       "    <tr style=\"text-align: right;\">\n",
       "      <th></th>\n",
       "      <th>Q</th>\n",
       "      <th>A</th>\n",
       "    </tr>\n",
       "  </thead>\n",
       "  <tbody>\n",
       "    <tr>\n",
       "      <th>0</th>\n",
       "      <td>What is kandi?</td>\n",
       "      <td>kandi (pronounced kandee) is a platform that h...</td>\n",
       "    </tr>\n",
       "    <tr>\n",
       "      <th>1</th>\n",
       "      <td>Have feedback or want to know more?</td>\n",
       "      <td>We are a passionate set of application focused...</td>\n",
       "    </tr>\n",
       "    <tr>\n",
       "      <th>2</th>\n",
       "      <td>What components does kandi cover?</td>\n",
       "      <td>kandi helps you select software components acr...</td>\n",
       "    </tr>\n",
       "    <tr>\n",
       "      <th>3</th>\n",
       "      <td>How do I use kandi?</td>\n",
       "      <td>kandi provides two simplified experiences to h...</td>\n",
       "    </tr>\n",
       "    <tr>\n",
       "      <th>4</th>\n",
       "      <td>How do I shortlist components on kandi?</td>\n",
       "      <td>You can use the below filters to shortlist com...</td>\n",
       "    </tr>\n",
       "    <tr>\n",
       "      <th>5</th>\n",
       "      <td>How do I implement the components that I have ...</td>\n",
       "      <td>The component listing and detailed insights pa...</td>\n",
       "    </tr>\n",
       "  </tbody>\n",
       "</table>\n",
       "</div>"
      ],
      "text/plain": [
       "                                                   Q  \\\n",
       "0                                     What is kandi?   \n",
       "1                Have feedback or want to know more?   \n",
       "2                  What components does kandi cover?   \n",
       "3                                How do I use kandi?   \n",
       "4            How do I shortlist components on kandi?   \n",
       "5  How do I implement the components that I have ...   \n",
       "\n",
       "                                                   A  \n",
       "0  kandi (pronounced kandee) is a platform that h...  \n",
       "1  We are a passionate set of application focused...  \n",
       "2  kandi helps you select software components acr...  \n",
       "3  kandi provides two simplified experiences to h...  \n",
       "4  You can use the below filters to shortlist com...  \n",
       "5  The component listing and detailed insights pa...  "
      ]
     },
     "execution_count": 7,
     "metadata": {},
     "output_type": "execute_result"
    }
   ],
   "source": [
    "\n",
    "DATASET_PATH = 'faq.csv'\n",
    "df = pd.read_csv(DATASET_PATH, encoding_errors = \"ignore\")\n",
    "df\n"
   ]
  },
  {
   "cell_type": "markdown",
   "metadata": {},
   "source": [
    "The text is being cleaned below, i.e. all useless words, punctuation and other stuff is removed."
   ]
  },
  {
   "cell_type": "code",
   "execution_count": 19,
   "metadata": {},
   "outputs": [
    {
     "name": "stderr",
     "output_type": "stream",
     "text": [
      "C:\\Users\\samri\\AppData\\Local\\Programs\\Python\\Python39\\lib\\site-packages\\lingualytics\\preprocessing.py:9: FutureWarning: The default value of regex will change from True to False in a future version.\n",
      "  return s.str.replace(rf\"([{punctuation}])+\", \" \")\n"
     ]
    },
    {
     "data": {
      "text/html": [
       "<div>\n",
       "<style scoped>\n",
       "    .dataframe tbody tr th:only-of-type {\n",
       "        vertical-align: middle;\n",
       "    }\n",
       "\n",
       "    .dataframe tbody tr th {\n",
       "        vertical-align: top;\n",
       "    }\n",
       "\n",
       "    .dataframe thead th {\n",
       "        text-align: right;\n",
       "    }\n",
       "</style>\n",
       "<table border=\"1\" class=\"dataframe\">\n",
       "  <thead>\n",
       "    <tr style=\"text-align: right;\">\n",
       "      <th></th>\n",
       "      <th>Q</th>\n",
       "      <th>A</th>\n",
       "      <th>clean_Q</th>\n",
       "    </tr>\n",
       "  </thead>\n",
       "  <tbody>\n",
       "    <tr>\n",
       "      <th>0</th>\n",
       "      <td>What is kandi?</td>\n",
       "      <td>kandi (pronounced kandee) is a platform that h...</td>\n",
       "      <td>What kandi</td>\n",
       "    </tr>\n",
       "    <tr>\n",
       "      <th>1</th>\n",
       "      <td>Have feedback or want to know more?</td>\n",
       "      <td>We are a passionate set of application focused...</td>\n",
       "      <td>Have feedback want know</td>\n",
       "    </tr>\n",
       "    <tr>\n",
       "      <th>2</th>\n",
       "      <td>What components does kandi cover?</td>\n",
       "      <td>kandi helps you select software components acr...</td>\n",
       "      <td>What components kandi cover</td>\n",
       "    </tr>\n",
       "    <tr>\n",
       "      <th>3</th>\n",
       "      <td>How do I use kandi?</td>\n",
       "      <td>kandi provides two simplified experiences to h...</td>\n",
       "      <td>kandi</td>\n",
       "    </tr>\n",
       "    <tr>\n",
       "      <th>4</th>\n",
       "      <td>How do I shortlist components on kandi?</td>\n",
       "      <td>You can use the below filters to shortlist com...</td>\n",
       "      <td>shortlist components kandi</td>\n",
       "    </tr>\n",
       "    <tr>\n",
       "      <th>5</th>\n",
       "      <td>How do I implement the components that I have ...</td>\n",
       "      <td>The component listing and detailed insights pa...</td>\n",
       "      <td>implement components selected kandi</td>\n",
       "    </tr>\n",
       "  </tbody>\n",
       "</table>\n",
       "</div>"
      ],
      "text/plain": [
       "                                                   Q  \\\n",
       "0                                     What is kandi?   \n",
       "1                Have feedback or want to know more?   \n",
       "2                  What components does kandi cover?   \n",
       "3                                How do I use kandi?   \n",
       "4            How do I shortlist components on kandi?   \n",
       "5  How do I implement the components that I have ...   \n",
       "\n",
       "                                                   A  \\\n",
       "0  kandi (pronounced kandee) is a platform that h...   \n",
       "1  We are a passionate set of application focused...   \n",
       "2  kandi helps you select software components acr...   \n",
       "3  kandi provides two simplified experiences to h...   \n",
       "4  You can use the below filters to shortlist com...   \n",
       "5  The component listing and detailed insights pa...   \n",
       "\n",
       "                               clean_Q  \n",
       "0                           What kandi  \n",
       "1              Have feedback want know  \n",
       "2          What components kandi cover  \n",
       "3                                kandi  \n",
       "4           shortlist components kandi  \n",
       "5  implement components selected kandi  "
      ]
     },
     "execution_count": 19,
     "metadata": {},
     "output_type": "execute_result"
    }
   ],
   "source": [
    "df['clean_Q'] = df['Q'].pipe(remove_digits)\\\n",
    "    .pipe(remove_punctuation)\\\n",
    "    .pipe(remove_lessthan,length=100)\\\n",
    "    .pipe(remove_stopwords,stopwords=en_stopwords.union(hi_stopwords))\n",
    "df"
   ]
  },
  {
   "cell_type": "markdown",
   "metadata": {},
   "source": [
    "Now, the questions are being converted into a tensor."
   ]
  },
  {
   "cell_type": "code",
   "execution_count": 10,
   "metadata": {},
   "outputs": [
    {
     "name": "stdout",
     "output_type": "stream",
     "text": [
      "tensor([[-0.0344,  0.2531, -0.9012,  ...,  0.4821, -0.0692,  0.2219],\n",
      "        [-0.1312, -0.1116, -0.0634,  ..., -0.0702, -0.9116, -0.0137],\n",
      "        [-0.3552,  0.4154, -0.7785,  ...,  0.1249,  0.2409,  0.0764],\n",
      "        [ 0.1192,  0.3432, -0.4598,  ...,  0.3603, -0.2396,  0.1668],\n",
      "        [-0.4885,  0.2131, -0.6421,  ...,  0.1549, -0.5106,  0.1832],\n",
      "        [-0.3025,  0.2400, -0.6605,  ...,  0.2106,  0.1297,  0.1079]])\n",
      "torch.Size([6, 384])\n"
     ]
    }
   ],
   "source": [
    "q_embs = model.encode(df['clean_Q'], convert_to_tensor = True)\n",
    "print(q_embs)\n",
    "print(q_embs.shape)"
   ]
  },
  {
   "cell_type": "markdown",
   "metadata": {},
   "source": [
    "Here, the user query is taken and a data frame is created for it."
   ]
  },
  {
   "cell_type": "code",
   "execution_count": 11,
   "metadata": {},
   "outputs": [
    {
     "data": {
      "text/html": [
       "<div>\n",
       "<style scoped>\n",
       "    .dataframe tbody tr th:only-of-type {\n",
       "        vertical-align: middle;\n",
       "    }\n",
       "\n",
       "    .dataframe tbody tr th {\n",
       "        vertical-align: top;\n",
       "    }\n",
       "\n",
       "    .dataframe thead th {\n",
       "        text-align: right;\n",
       "    }\n",
       "</style>\n",
       "<table border=\"1\" class=\"dataframe\">\n",
       "  <thead>\n",
       "    <tr style=\"text-align: right;\">\n",
       "      <th></th>\n",
       "      <th>user_query</th>\n",
       "    </tr>\n",
       "  </thead>\n",
       "  <tbody>\n",
       "    <tr>\n",
       "      <th>0</th>\n",
       "      <td>kandi is components cover?!</td>\n",
       "    </tr>\n",
       "  </tbody>\n",
       "</table>\n",
       "</div>"
      ],
      "text/plain": [
       "                    user_query\n",
       "0  kandi is components cover?!"
      ]
     },
     "execution_count": 11,
     "metadata": {},
     "output_type": "execute_result"
    }
   ],
   "source": [
    "user_q = \"kandi is components cover?!\"\n",
    "df_q = pd.DataFrame([user_q], columns = ['user_query'])\n",
    "df_q\n"
   ]
  },
  {
   "cell_type": "markdown",
   "metadata": {},
   "source": [
    "Now, the data frame for the data query is converted into a tensor."
   ]
  },
  {
   "cell_type": "code",
   "execution_count": 12,
   "metadata": {},
   "outputs": [
    {
     "name": "stdout",
     "output_type": "stream",
     "text": [
      "torch.Size([1, 384])\n"
     ]
    }
   ],
   "source": [
    "user_q_emb = model.encode(df_q['user_query'], convert_to_tensor=True)\n",
    "print(user_q_emb.shape)"
   ]
  },
  {
   "cell_type": "markdown",
   "metadata": {},
   "source": [
    "## Comparing Tensors"
   ]
  },
  {
   "cell_type": "markdown",
   "metadata": {},
   "source": [
    "Compare tensors"
   ]
  },
  {
   "cell_type": "code",
   "execution_count": 13,
   "metadata": {},
   "outputs": [
    {
     "data": {
      "text/plain": [
       "tensor([0.6007, 0.0868, 0.8953, 0.5715, 0.6218, 0.6855])"
      ]
     },
     "execution_count": 13,
     "metadata": {},
     "output_type": "execute_result"
    }
   ],
   "source": [
    "cos_fn(user_q_emb, q_embs)"
   ]
  },
  {
   "cell_type": "markdown",
   "metadata": {},
   "source": [
    "Get the index of the most similar one"
   ]
  },
  {
   "cell_type": "code",
   "execution_count": 14,
   "metadata": {},
   "outputs": [],
   "source": [
    "ans = np.argmax(cos_fn(user_q_emb, q_embs)).item()"
   ]
  },
  {
   "cell_type": "markdown",
   "metadata": {},
   "source": [
    "## Output the answer"
   ]
  },
  {
   "cell_type": "code",
   "execution_count": 15,
   "metadata": {},
   "outputs": [
    {
     "name": "stdout",
     "output_type": "stream",
     "text": [
      "kandi helps you select software components across:\n",
      "Packages from all package managers and repositories\n",
      "Source Code across all major code repositories\n",
      "Cloud Functions and APIs across all hyperscale cloud providers\n"
     ]
    }
   ],
   "source": [
    "print(df['A'][ans])"
   ]
  }
 ],
 "metadata": {
  "interpreter": {
   "hash": "d7f607517fbded2211221c0b54aab66a5b7061bb364a6856b89fe210755712ec"
  },
  "kernelspec": {
   "display_name": "Python 3.9.7 64-bit",
   "name": "python3"
  },
  "language_info": {
   "codemirror_mode": {
    "name": "ipython",
    "version": 3
   },
   "file_extension": ".py",
   "mimetype": "text/x-python",
   "name": "python",
   "nbconvert_exporter": "python",
   "pygments_lexer": "ipython3",
   "version": "3.9.7"
  },
  "orig_nbformat": 4
 },
 "nbformat": 4,
 "nbformat_minor": 2
}
